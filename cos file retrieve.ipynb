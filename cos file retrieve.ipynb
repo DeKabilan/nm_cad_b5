{
 "cells": [
  {
   "cell_type": "code",
   "execution_count": 1,
   "id": "a1f86f13",
   "metadata": {},
   "outputs": [],
   "source": [
    "import ibm_boto3\n",
    "from ibm_botocore.client import Config, ClientError"
   ]
  },
  {
   "cell_type": "code",
   "execution_count": 2,
   "id": "ff8c690f",
   "metadata": {},
   "outputs": [
    {
     "name": "stdout",
     "output_type": "stream",
     "text": [
      "list of files form cos : {'ResponseMetadata': {'RequestId': '31e2016b-0b02-4615-8569-ccaeb9972909', 'HostId': '', 'HTTPStatusCode': 200, 'HTTPHeaders': {'date': 'Fri, 12 May 2023 04:52:02 GMT', 'x-clv-request-id': '31e2016b-0b02-4615-8569-ccaeb9972909', 'server': 'Cleversafe', 'x-clv-s3-version': '2.5', 'accept-ranges': 'bytes', 'x-amz-request-id': '31e2016b-0b02-4615-8569-ccaeb9972909', 'ibm-sse-kp-enabled': 'false', 'content-type': 'application/xml', 'content-length': '1690'}, 'RetryAttempts': 0}, 'IBMSSEKPEnabled': False, 'IsTruncated': False, 'Marker': '', 'Contents': [{'Key': 'Brainstorming- Idea Generation- Prioritizaation Template.docx', 'LastModified': datetime.datetime(2023, 4, 28, 10, 34, 32, 517000, tzinfo=tzutc()), 'ETag': '\"e444cd7c978897e14e8aec6eb7fdab6f\"', 'Size': 269845, 'StorageClass': 'STANDARD', 'Owner': {'DisplayName': '2883dbef-d638-4e0a-922e-2ad686a7ad08', 'ID': '2883dbef-d638-4e0a-922e-2ad686a7ad08'}}, {'Key': 'Define Problem Statements Template.docx', 'LastModified': datetime.datetime(2023, 4, 28, 10, 36, 20, 75000, tzinfo=tzutc()), 'ETag': '\"f8822affc26820598f056bf98d7c6bc7\"', 'Size': 197526, 'StorageClass': 'STANDARD', 'Owner': {'DisplayName': '2883dbef-d638-4e0a-922e-2ad686a7ad08', 'ID': '2883dbef-d638-4e0a-922e-2ad686a7ad08'}}, {'Key': 'NM Engineering FAQs.pdf', 'LastModified': datetime.datetime(2023, 5, 5, 6, 18, 12, 539000, tzinfo=tzutc()), 'ETag': '\"ba31b1ab66c1d90d2b9987b9c94a75c2\"', 'Size': 80524, 'StorageClass': 'STANDARD', 'Owner': {'DisplayName': '2883dbef-d638-4e0a-922e-2ad686a7ad08', 'ID': '2883dbef-d638-4e0a-922e-2ad686a7ad08'}}, {'Key': 'predict.html', 'LastModified': datetime.datetime(2023, 5, 5, 6, 23, 20, 503000, tzinfo=tzutc()), 'ETag': '\"3a516c3af4edd0a9fc59eafff0e5e5b2\"', 'Size': 5338, 'StorageClass': 'STANDARD', 'Owner': {'DisplayName': '2883dbef-d638-4e0a-922e-2ad686a7ad08', 'ID': '2883dbef-d638-4e0a-922e-2ad686a7ad08'}}], 'Name': 'course-b5', 'Prefix': '', 'Delimiter': '', 'MaxKeys': 1000}\n"
     ]
    }
   ],
   "source": [
    "cos_endpoint = \"\"\n",
    "cos_apikey = \"\"\n",
    "cos_crn = \"\"\n",
    "cos = ibm_boto3.client(\"s3\", ibm_api_key_id = cos_apikey, ibm_service_instance_id = cos_crn, endpoint_url= cos_endpoint, config= Config(signature_version = \"oauth\"))\n",
    "files = cos.list_objects(Bucket = \"\")\n",
    "print(\"list of files frmm cos :\", files)"
   ]
  },
  {
   "cell_type": "code",
   "execution_count": 6,
   "id": "de51d347",
   "metadata": {},
   "outputs": [
    {
     "data": {
      "text/plain": [
       "4"
      ]
     },
     "execution_count": 6,
     "metadata": {},
     "output_type": "execute_result"
    }
   ],
   "source": [
    "len(files['Contents'])"
   ]
  },
  {
   "cell_type": "code",
   "execution_count": 8,
   "id": "9b5706b9",
   "metadata": {},
   "outputs": [
    {
     "data": {
      "text/plain": [
       "'Brainstorming- Idea Generation- Prioritizaation Template.docx'"
      ]
     },
     "execution_count": 8,
     "metadata": {},
     "output_type": "execute_result"
    }
   ],
   "source": [
    "files['Contents'][0]['Key']"
   ]
  },
  {
   "cell_type": "code",
   "execution_count": 9,
   "id": "95399afb",
   "metadata": {},
   "outputs": [],
   "source": [
    "l = []\n",
    "for i in range (0, len(files['Contents'])):\n",
    "    fname = files['Contents'][i]['Key']\n",
    "    l.append(fname)"
   ]
  },
  {
   "cell_type": "code",
   "execution_count": 10,
   "id": "9e8cda52",
   "metadata": {},
   "outputs": [
    {
     "data": {
      "text/plain": [
       "['Brainstorming- Idea Generation- Prioritizaation Template.docx',\n",
       " 'Define Problem Statements Template.docx',\n",
       " 'NM Engineering FAQs.pdf',\n",
       " 'predict.html']"
      ]
     },
     "execution_count": 10,
     "metadata": {},
     "output_type": "execute_result"
    }
   ],
   "source": [
    "l"
   ]
  },
  {
   "cell_type": "code",
   "execution_count": null,
   "id": "16dbdb33",
   "metadata": {},
   "outputs": [],
   "source": []
  },
  {
   "cell_type": "code",
   "execution_count": null,
   "id": "58dee856",
   "metadata": {},
   "outputs": [],
   "source": []
  },
  {
   "cell_type": "code",
   "execution_count": null,
   "id": "fb2b3a64",
   "metadata": {},
   "outputs": [],
   "source": []
  },
  {
   "cell_type": "markdown",
   "id": "c1013e0d",
   "metadata": {},
   "source": [
    "## reference code"
   ]
  },
  {
   "cell_type": "code",
   "execution_count": null,
   "id": "1db908e3",
   "metadata": {},
   "outputs": [],
   "source": [
    "## storing the file in cos by using the username ( u)\n",
    "cos.upload_file(Filename= filepath,Bucket='',Key= u+x+\".pdf\")"
   ]
  },
  {
   "cell_type": "code",
   "execution_count": null,
   "id": "10349e78",
   "metadata": {},
   "outputs": [],
   "source": [
    "## retriving the files from cos and filtering by username (stdname) and sending that tooo html page\n",
    "@app.route(\"/marksassign/<string:stdname>\", methods=['POST', 'GET'])\n",
    "def marksassign(stdname):\n",
    "    global u\n",
    "    global g\n",
    "    global file\n",
    "    da  = []\n",
    "    \n",
    "    COS_ENDPOINT = \"\"\n",
    "    COS_API_KEY_ID = \"\"\n",
    "    COS_INSTANCE_CRN = \"\"\n",
    "    cos = ibm_boto3.client(\"s3\",\n",
    "                        ibm_api_key_id=COS_API_KEY_ID,\n",
    "                        ibm_service_instance_id=COS_INSTANCE_CRN,\n",
    "                        config=Config(signature_version=\"oauth\"),\n",
    "                        endpoint_url=COS_ENDPOINT)\n",
    "    output = cos.list_objects(Bucket=\"\")\n",
    "    output\n",
    "    l=[]\n",
    "    for i in range(0,len(output['Contents'])):\n",
    "        j = output['Contents'][i]['Key']\n",
    "        l.append(j)\n",
    "    l \n",
    "    u = stdname\n",
    "    print(len(u))\n",
    "    print(len(l))\n",
    "    n = []\n",
    "    for i in range(0,len(l)):\n",
    "        for j in range(0,len(u)):\n",
    "            if u[j]==l[i][j]:\n",
    "                n.append(l[i]) \n",
    "    file = set(n)\n",
    "    file = list(file)\n",
    "    print(file)\n",
    "    print(len(file))\n",
    "    g = len(file)\n",
    "    sql = \"SELECT SUBMITTIME from SUBMIT WHERE STUDENTNAME=?\"\n",
    "    stmt = ibm_db.prepare(conn, sql)\n",
    "    ibm_db.bind_param(stmt , 1, u)\n",
    "    ibm_db.execute(stmt)\n",
    "    m = ibm_db.fetch_tuple(stmt) \n",
    "    while m != False:\n",
    "        da.append(m[0])\n",
    "        m = ibm_db.fetch_tuple(stmt)\n",
    "\n",
    "    print(da)\n",
    "    return render_template(\"facultymarks.html\", file=file, g=g, marks=0, datetime=da)"
   ]
  }
 ],
 "metadata": {
  "kernelspec": {
   "display_name": "Python 3 (ipykernel)",
   "language": "python",
   "name": "python3"
  },
  "language_info": {
   "codemirror_mode": {
    "name": "ipython",
    "version": 3
   },
   "file_extension": ".py",
   "mimetype": "text/x-python",
   "name": "python",
   "nbconvert_exporter": "python",
   "pygments_lexer": "ipython3",
   "version": "3.9.12"
  }
 },
 "nbformat": 4,
 "nbformat_minor": 5
}
